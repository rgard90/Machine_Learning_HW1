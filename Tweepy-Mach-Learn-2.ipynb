{
 "cells": [
  {
   "cell_type": "code",
   "execution_count": 31,
   "metadata": {},
   "outputs": [
    {
     "name": "stdout",
     "output_type": "stream",
     "text": [
      "Enter the keyword:therock\n",
      "@TheRock Goat = Greatest Of All Time!\n",
      "Do people really not no this? 😂🙈\n",
      " \n",
      "@TheEllenShow @johnkrasinski @TheRock @adrea95 😍💕\n",
      " \n",
      "RT @90sWWE: Classic @TheRock! 🤣 https://t.co/QJHFm0dzBk\n",
      " \n",
      "RT @PeteBlackburn: Hey everybody @TheRock is officially a pineapple pizza guy so this debate is now officially over. You’ve got something t…\n",
      " \n",
      "@KyrieAutry2 @TheRock Muscle Hamsters are taking over the world D:\n",
      " \n",
      "RT @johnkrasinski: To quote you sir... “You’re welcome” https://t.co/2JdOFRMrlg\n",
      " \n",
      "RT @johnkrasinski: To quote you sir... “You’re welcome” https://t.co/2JdOFRMrlg\n",
      " \n",
      "RT @johnkrasinski: To quote you sir... “You’re welcome” https://t.co/2JdOFRMrlg\n",
      " \n",
      "@Kodak_Jack__ @TheRock Too late buddy she’s in the DM’s already!!  #sorrylauren\n",
      " \n",
      "RT @TheEllenShow: Did you hear @JohnKrasinski sent a naked photo to @TheRock? You heard me. https://t.co/lUdthBxmig\n",
      " \n",
      "@RB3Schmoes Even @TheRock can be wrong about stuff on occasion. This is one such occasion.\n",
      " \n",
      "RT @johnkrasinski: To quote you sir... “You’re welcome” https://t.co/2JdOFRMrlg\n",
      " \n",
      "RT @johnkrasinski: To quote you sir... “You’re welcome” https://t.co/2JdOFRMrlg\n",
      " \n",
      "Total sentiments score(-1 to 1):  0.3030448717948718\n"
     ]
    },
    {
     "data": {
      "image/png": "[encoded data removed]",
      "text/plain": [
       "<matplotlib.figure.Figure at 0x1794ebdb5f8>"
      ]
     },
     "metadata": {},
     "output_type": "display_data"
    }
   ],
   "source": [
    "import tweepy\n",
    "from textblob import TextBlob\n",
    "import matplotlib.pyplot as plt\n",
    "\n",
    "#Authentication with twitter API\n",
    "consumer_key = 'wJfTjhAhS1F2eac84zBl0VgZ0'\n",
    "consumer_secret = 'IuQLvzWrk1fgetrRO9xTKLwZp1JaL4KpmYcaPtbmPJkEMTIfXc'\n",
    "\n",
    "access_token = '1459989746-mGMuvbiltJalHzwzaGPXhf37lTlXnlb1H217ij1'\n",
    "access_token_secret = 'LCRnyj4Cuwr5BSgJA6zlCuKAc5IA8TMHl4HKdheUdMp06'\n",
    "\n",
    "auth = tweepy.OAuthHandler(consumer_key, consumer_secret)\n",
    "auth.set_access_token(access_token, access_token_secret)\n",
    "\n",
    "api = tweepy.API(auth)\n",
    "\n",
    "#Keyword of which sentiment to be calculated is taken from user\n",
    "value = input(\"Enter the keyword:\")\n",
    "\n",
    "#tweets containing keyword are collected\n",
    "public_tweets = api.search(value) \n",
    "\n",
    "#list initialized to calculate total sentiments(polarity)\n",
    "total_pol = []\n",
    "k = 0\n",
    "\n",
    "#tweets are printed along with its individual sentiments score\n",
    "for tweet in public_tweets:\n",
    "    print(tweet.text)\n",
    "    print(\" \");\n",
    "    analysis = TextBlob(tweet.text)\n",
    "    #print(analysis.sentiment)\n",
    "    total_pol.insert(k, analysis.sentiment.polarity)\n",
    "    k += 1\n",
    "j = 0\n",
    "n = 0\n",
    "for i in total_pol:\n",
    "    j = j + i\n",
    "    n = n + 1\n",
    "\n",
    "p = j/n\n",
    "\n",
    "\n",
    "print(\"Total sentiments score(-1 to 1): \",p)\n",
    "\n",
    "v = ((1+p)*100)/2\n",
    "\n",
    "#Plotting obtained score in pie chart\n",
    "labels = 'likes', 'dislikes'\n",
    "sizes = [v,100-v ]\n",
    "color = ['lightskyblue', 'yellow']\n",
    "explode = (0.1, 0)\n",
    "\n",
    "plt.pie(sizes, explode = explode, labels = labels, colors = color, autopct='%1.1f%%', shadow=True, startangle=140)\n",
    "plt.axis('equal')\n",
    "plt.show()"
   ]
  },
  {
   "cell_type": "code",
   "execution_count": null,
   "metadata": {
    "collapsed": true
   },
   "outputs": [],
   "source": []
  }
 ],
 "metadata": {
  "kernelspec": {
   "display_name": "Python 3",
   "language": "python",
   "name": "python3"
  },
  "language_info": {
   "codemirror_mode": {
    "name": "ipython",
    "version": 3
   },
   "file_extension": ".py",
   "mimetype": "text/x-python",
   "name": "python",
   "nbconvert_exporter": "python",
   "pygments_lexer": "ipython3",
   "version": "3.6.1"
  }
 },
 "nbformat": 4,
 "nbformat_minor": 2
}
